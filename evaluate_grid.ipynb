{
 "cells": [
  {
   "cell_type": "code",
   "execution_count": null,
   "id": "61ba6e50-34d8-4690-a815-fba879548e5c",
   "metadata": {},
   "outputs": [],
   "source": [
    "from options import Options\n",
    "from grid import Grid\n",
    "import torch\n",
    "%load_ext autoreload\n",
    "\n",
    "%autoreload 2\n",
    "\n",
    "torch.serialization.add_safe_globals"
   ]
  },
  {
   "cell_type": "code",
   "execution_count": 47,
   "id": "3e7dd6c1-632e-4d06-b74b-c71c1b201e69",
   "metadata": {},
   "outputs": [
    {
     "name": "stdout",
     "output_type": "stream",
     "text": [
      "Recovering pre-computed matrix at /home/onyxia/work/burak/models/beta=0.013333333333333334_gamma=0.015333333333333332_periodic=True_a=1.5_l=1_n=40.pth\n"
     ]
    }
   ],
   "source": [
    "options = Options()\n",
    "grid = Grid(options)"
   ]
  }
 ],
 "metadata": {
  "kernelspec": {
   "display_name": "Python 3 (ipykernel)",
   "language": "python",
   "name": "python3"
  },
  "language_info": {
   "codemirror_mode": {
    "name": "ipython",
    "version": 3
   },
   "file_extension": ".py",
   "mimetype": "text/x-python",
   "name": "python",
   "nbconvert_exporter": "python",
   "pygments_lexer": "ipython3",
   "version": "3.12.7"
  }
 },
 "nbformat": 4,
 "nbformat_minor": 5
}
